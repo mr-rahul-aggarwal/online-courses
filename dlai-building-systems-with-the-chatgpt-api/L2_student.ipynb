{
 "cells": [
  {
   "cell_type": "markdown",
   "id": "f14c4442-3fc5-4070-9ef2-bb33d30e6b38",
   "metadata": {},
   "source": [
    "# L2: Evaluate Inputs: Classification"
   ]
  },
  {
   "cell_type": "markdown",
   "id": "26fd0696-18e6-4029-8738-fecba92851db",
   "metadata": {},
   "source": [
    "## Setup\n",
    "#### Load the API key and relevant Python libaries.\n",
    "In this course, we've provided some code that loads the OpenAI API key for you."
   ]
  },
  {
   "cell_type": "code",
   "execution_count": 1,
   "id": "87f647e2",
   "metadata": {},
   "outputs": [],
   "source": [
    "import os\n",
    "from openai import AzureOpenAI\n",
    "\n",
    "client = AzureOpenAI(\n",
    "    api_key=os.getenv(\"AZURE_OPENAI_API_KEY\"),  \n",
    "    api_version=\"2024-02-01\",\n",
    "    azure_endpoint = os.getenv(\"AZURE_OPENAI_ENDPOINT\"))\n",
    "\n",
    "deployment_name = os.getenv(\"AZURE_OPENAI_DEPLOYMENT_NAME\")"
   ]
  },
  {
   "cell_type": "code",
   "execution_count": 2,
   "id": "be838096",
   "metadata": {},
   "outputs": [],
   "source": [
    "def get_completion_from_messages(messages,deployment_name=deployment_name,temperature=0.01):\n",
    "    completion = client.chat.completions.create(\n",
    "        model=deployment_name,\n",
    "        max_tokens=800,\n",
    "        temperature=temperature,# this is the degree of randomness of the model's output\n",
    "        messages= messages\n",
    "        )\n",
    "    return completion.choices[0].message.content"
   ]
  },
  {
   "cell_type": "markdown",
   "id": "d3db09d1-6253-4c9e-9ad1-5a6134df3e6c",
   "metadata": {},
   "source": [
    "#### Classify customer queries to handle different cases"
   ]
  },
  {
   "cell_type": "code",
   "execution_count": 6,
   "id": "8db30f42",
   "metadata": {},
   "outputs": [
    {
     "name": "stdout",
     "output_type": "stream",
     "text": [
      "[{'role': 'system', 'content': '\\nYou will be provided with customer service queries. The customer service query will be delimited with #### characters.\\nClassify each query into a primary category and a secondary category. \\nProvide your output in json format with the keys: primary and secondary.\\n\\nPrimary categories: Billing, Technical Support, Account Management, or General Inquiry.\\n\\nBilling secondary categories:\\nUnsubscribe or upgrade\\nAdd a payment method\\nExplanation for charge\\nDispute a charge\\n\\nTechnical Support secondary categories:\\nGeneral troubleshooting\\nDevice compatibility\\nSoftware updates\\n\\nAccount Management secondary categories:\\nPassword reset\\nUpdate personal information\\nClose account\\nAccount security\\n\\nGeneral Inquiry secondary categories:\\nProduct information\\nPricing\\nFeedback\\nSpeak to a human\\n\\n'}, {'role': 'user', 'content': '####I want you to delete my profile and all of my user data####'}]\n"
     ]
    }
   ],
   "source": [
    "delimiter = \"####\"\n",
    "system_message = f\"\"\"\n",
    "You will be provided with customer service queries. \\\n",
    "The customer service query will be delimited with \\\n",
    "{delimiter} characters.\n",
    "Classify each query into a primary category \\\n",
    "and a secondary category. \n",
    "Provide your output in json format with the \\\n",
    "keys: primary and secondary.\n",
    "\n",
    "Primary categories: Billing, Technical Support, \\\n",
    "Account Management, or General Inquiry.\n",
    "\n",
    "Billing secondary categories:\n",
    "Unsubscribe or upgrade\n",
    "Add a payment method\n",
    "Explanation for charge\n",
    "Dispute a charge\n",
    "\n",
    "Technical Support secondary categories:\n",
    "General troubleshooting\n",
    "Device compatibility\n",
    "Software updates\n",
    "\n",
    "Account Management secondary categories:\n",
    "Password reset\n",
    "Update personal information\n",
    "Close account\n",
    "Account security\n",
    "\n",
    "General Inquiry secondary categories:\n",
    "Product information\n",
    "Pricing\n",
    "Feedback\n",
    "Speak to a human\n",
    "\n",
    "\"\"\"\n",
    "user_message = f\"\"\"\\\n",
    "I want you to delete my profile and all of my user data\"\"\"\n",
    "messages =  [  \n",
    "{'role':'system', \n",
    " 'content': system_message},    \n",
    "{'role':'user', \n",
    " 'content': f\"{delimiter}{user_message}{delimiter}\"},  \n",
    "] \n",
    "\n",
    "print(messages)"
   ]
  },
  {
   "cell_type": "code",
   "execution_count": 7,
   "id": "7055aaf8",
   "metadata": {},
   "outputs": [
    {
     "name": "stdout",
     "output_type": "stream",
     "text": [
      "{\n",
      "  \"primary\": \"Account Management\",\n",
      "  \"secondary\": \"Close account\"\n",
      "}\n"
     ]
    }
   ],
   "source": [
    "response = get_completion_from_messages(messages)\n",
    "print(response)"
   ]
  },
  {
   "cell_type": "code",
   "execution_count": 8,
   "id": "f9a5a790",
   "metadata": {},
   "outputs": [
    {
     "name": "stdout",
     "output_type": "stream",
     "text": [
      "[{'role': 'system', 'content': '\\nYou will be provided with customer service queries. The customer service query will be delimited with #### characters.\\nClassify each query into a primary category and a secondary category. \\nProvide your output in json format with the keys: primary and secondary.\\n\\nPrimary categories: Billing, Technical Support, Account Management, or General Inquiry.\\n\\nBilling secondary categories:\\nUnsubscribe or upgrade\\nAdd a payment method\\nExplanation for charge\\nDispute a charge\\n\\nTechnical Support secondary categories:\\nGeneral troubleshooting\\nDevice compatibility\\nSoftware updates\\n\\nAccount Management secondary categories:\\nPassword reset\\nUpdate personal information\\nClose account\\nAccount security\\n\\nGeneral Inquiry secondary categories:\\nProduct information\\nPricing\\nFeedback\\nSpeak to a human\\n\\n'}, {'role': 'user', 'content': '####Tell me more about your flat screen tvs####'}]\n"
     ]
    }
   ],
   "source": [
    "user_message = f\"\"\"\\\n",
    "Tell me more about your flat screen tvs\"\"\"\n",
    "messages =  [  \n",
    "{'role':'system', \n",
    " 'content': system_message},    \n",
    "{'role':'user', \n",
    " 'content': f\"{delimiter}{user_message}{delimiter}\"},  \n",
    "] \n",
    "print(messages)"
   ]
  },
  {
   "cell_type": "code",
   "execution_count": 9,
   "id": "3df3ec87",
   "metadata": {},
   "outputs": [
    {
     "name": "stdout",
     "output_type": "stream",
     "text": [
      "{\n",
      "  \"primary\": \"General Inquiry\",\n",
      "  \"secondary\": \"Product information\"\n",
      "}\n"
     ]
    }
   ],
   "source": [
    "response = get_completion_from_messages(messages)\n",
    "print(response)"
   ]
  }
 ],
 "metadata": {
  "kernelspec": {
   "display_name": "Python 3 (ipykernel)",
   "language": "python",
   "name": "python3"
  },
  "language_info": {
   "codemirror_mode": {
    "name": "ipython",
    "version": 3
   },
   "file_extension": ".py",
   "mimetype": "text/x-python",
   "name": "python",
   "nbconvert_exporter": "python",
   "pygments_lexer": "ipython3",
   "version": "3.9.6"
  }
 },
 "nbformat": 4,
 "nbformat_minor": 5
}
