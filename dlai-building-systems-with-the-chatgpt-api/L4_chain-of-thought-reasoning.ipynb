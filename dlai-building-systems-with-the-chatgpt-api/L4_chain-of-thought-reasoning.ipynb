{
 "cells": [
  {
   "cell_type": "markdown",
   "id": "0e7531d5-0c22-49ad-9d37-8b08eec7d4e0",
   "metadata": {},
   "source": [
    "# L4: Process Inputs: Chain of Thought Reasoning"
   ]
  },
  {
   "cell_type": "markdown",
   "id": "e613f6af-ce1c-49ea-ae99-0d2e3fa3fae1",
   "metadata": {},
   "source": [
    "## Setup\n",
    "#### Load the API key and relevant Python libaries.\n",
    "In this course, we've provided some code that loads the OpenAI API key for you."
   ]
  },
  {
   "cell_type": "code",
   "execution_count": 1,
   "id": "0df1c9e8",
   "metadata": {},
   "outputs": [],
   "source": [
    "import os\n",
    "from openai import AzureOpenAI\n",
    "\n",
    "client = AzureOpenAI(\n",
    "    api_key=os.getenv(\"AZURE_OPENAI_API_KEY\"),  \n",
    "    api_version=\"2024-02-01\",\n",
    "    azure_endpoint = os.getenv(\"AZURE_OPENAI_ENDPOINT\"))\n",
    "\n",
    "deployment_name = os.getenv(\"AZURE_OPENAI_DEPLOYMENT_NAME\")"
   ]
  },
  {
   "cell_type": "code",
   "execution_count": 2,
   "id": "c8314cb0",
   "metadata": {},
   "outputs": [],
   "source": [
    "def get_completion_from_messages(messages,deployment_name=deployment_name,temperature=0.01):\n",
    "    completion = client.chat.completions.create(\n",
    "        model=deployment_name,\n",
    "        max_tokens=800,\n",
    "        temperature=temperature,# this is the degree of randomness of the model's output\n",
    "        messages= messages\n",
    "        )\n",
    "    return completion.choices[0].message.content"
   ]
  },
  {
   "cell_type": "code",
   "execution_count": null,
   "id": "b98a05b6",
   "metadata": {},
   "outputs": [],
   "source": [
    "def get_completion_from_messages(messages, \n",
    "                                 model=\"gpt-3.5-turbo\", \n",
    "                                 temperature=0, max_tokens=500):\n",
    "    response = openai.ChatCompletion.create(\n",
    "        model=model,\n",
    "        messages=messages,\n",
    "        temperature=temperature, \n",
    "        max_tokens=max_tokens, \n",
    "    )\n",
    "    return response.choices[0].message[\"content\"]"
   ]
  },
  {
   "cell_type": "markdown",
   "id": "119d273f-df72-47e2-a9a6-a8994d742aec",
   "metadata": {},
   "source": [
    "## Chain-of-Thought Prompting"
   ]
  },
  {
   "cell_type": "code",
   "execution_count": 3,
   "id": "e0e66beb-8fb5-4c7b-afa7-13d20ded1d49",
   "metadata": {},
   "outputs": [],
   "source": [
    "delimiter = \"####\"\n",
    "system_message = f\"\"\"\n",
    "Follow these steps to answer the customer queries.\n",
    "The customer query will be delimited with four hashtags,\\\n",
    "i.e. {delimiter}. \n",
    "\n",
    "Step 1:{delimiter} First decide whether the user is \\\n",
    "asking a question about a specific product or products. \\\n",
    "Product cateogry doesn't count. \n",
    "\n",
    "Step 2:{delimiter} If the user is asking about \\\n",
    "specific products, identify whether \\\n",
    "the products are in the following list.\n",
    "All available products: \n",
    "1. Product: TechPro Ultrabook\n",
    "   Category: Computers and Laptops\n",
    "   Brand: TechPro\n",
    "   Model Number: TP-UB100\n",
    "   Warranty: 1 year\n",
    "   Rating: 4.5\n",
    "   Features: 13.3-inch display, 8GB RAM, 256GB SSD, Intel Core i5 processor\n",
    "   Description: A sleek and lightweight ultrabook for everyday use.\n",
    "   Price: $799.99\n",
    "\n",
    "2. Product: BlueWave Gaming Laptop\n",
    "   Category: Computers and Laptops\n",
    "   Brand: BlueWave\n",
    "   Model Number: BW-GL200\n",
    "   Warranty: 2 years\n",
    "   Rating: 4.7\n",
    "   Features: 15.6-inch display, 16GB RAM, 512GB SSD, NVIDIA GeForce RTX 3060\n",
    "   Description: A high-performance gaming laptop for an immersive experience.\n",
    "   Price: $1199.99\n",
    "\n",
    "3. Product: PowerLite Convertible\n",
    "   Category: Computers and Laptops\n",
    "   Brand: PowerLite\n",
    "   Model Number: PL-CV300\n",
    "   Warranty: 1 year\n",
    "   Rating: 4.3\n",
    "   Features: 14-inch touchscreen, 8GB RAM, 256GB SSD, 360-degree hinge\n",
    "   Description: A versatile convertible laptop with a responsive touchscreen.\n",
    "   Price: $699.99\n",
    "\n",
    "4. Product: TechPro Desktop\n",
    "   Category: Computers and Laptops\n",
    "   Brand: TechPro\n",
    "   Model Number: TP-DT500\n",
    "   Warranty: 1 year\n",
    "   Rating: 4.4\n",
    "   Features: Intel Core i7 processor, 16GB RAM, 1TB HDD, NVIDIA GeForce GTX 1660\n",
    "   Description: A powerful desktop computer for work and play.\n",
    "   Price: $999.99\n",
    "\n",
    "5. Product: BlueWave Chromebook\n",
    "   Category: Computers and Laptops\n",
    "   Brand: BlueWave\n",
    "   Model Number: BW-CB100\n",
    "   Warranty: 1 year\n",
    "   Rating: 4.1\n",
    "   Features: 11.6-inch display, 4GB RAM, 32GB eMMC, Chrome OS\n",
    "   Description: A compact and affordable Chromebook for everyday tasks.\n",
    "   Price: $249.99\n",
    "\n",
    "Step 3:{delimiter} If the message contains products \\\n",
    "in the list above, list any assumptions that the \\\n",
    "user is making in their \\\n",
    "message e.g. that Laptop X is bigger than \\\n",
    "Laptop Y, or that Laptop Z has a 2 year warranty.\n",
    "\n",
    "Step 4:{delimiter}: If the user made any assumptions, \\\n",
    "figure out whether the assumption is true based on your \\\n",
    "product information. \n",
    "\n",
    "Step 5:{delimiter}: First, politely correct the \\\n",
    "customer's incorrect assumptions if applicable. \\\n",
    "Only mention or reference products in the list of \\\n",
    "5 available products, as these are the only 5 \\\n",
    "products that the store sells. \\\n",
    "Answer the customer in a friendly tone.\n",
    "\n",
    "Use the following format:\n",
    "Step 1:{delimiter} <step 1 reasoning>\n",
    "Step 2:{delimiter} <step 2 reasoning>\n",
    "Step 3:{delimiter} <step 3 reasoning>\n",
    "Step 4:{delimiter} <step 4 reasoning>\n",
    "Response to user:{delimiter} <response to customer>\n",
    "\n",
    "Make sure to include {delimiter} to separate every step.\n",
    "\"\"\""
   ]
  },
  {
   "cell_type": "code",
   "execution_count": 4,
   "id": "6be1ea0a-a816-4694-8a79-77d985f2e274",
   "metadata": {},
   "outputs": [
    {
     "name": "stdout",
     "output_type": "stream",
     "text": [
      "[{'role': 'system', 'content': \"\\nFollow these steps to answer the customer queries.\\nThe customer query will be delimited with four hashtags,i.e. ####. \\n\\nStep 1:#### First decide whether the user is asking a question about a specific product or products. Product cateogry doesn't count. \\n\\nStep 2:#### If the user is asking about specific products, identify whether the products are in the following list.\\nAll available products: \\n1. Product: TechPro Ultrabook\\n   Category: Computers and Laptops\\n   Brand: TechPro\\n   Model Number: TP-UB100\\n   Warranty: 1 year\\n   Rating: 4.5\\n   Features: 13.3-inch display, 8GB RAM, 256GB SSD, Intel Core i5 processor\\n   Description: A sleek and lightweight ultrabook for everyday use.\\n   Price: $799.99\\n\\n2. Product: BlueWave Gaming Laptop\\n   Category: Computers and Laptops\\n   Brand: BlueWave\\n   Model Number: BW-GL200\\n   Warranty: 2 years\\n   Rating: 4.7\\n   Features: 15.6-inch display, 16GB RAM, 512GB SSD, NVIDIA GeForce RTX 3060\\n   Description: A high-performance gaming laptop for an immersive experience.\\n   Price: $1199.99\\n\\n3. Product: PowerLite Convertible\\n   Category: Computers and Laptops\\n   Brand: PowerLite\\n   Model Number: PL-CV300\\n   Warranty: 1 year\\n   Rating: 4.3\\n   Features: 14-inch touchscreen, 8GB RAM, 256GB SSD, 360-degree hinge\\n   Description: A versatile convertible laptop with a responsive touchscreen.\\n   Price: $699.99\\n\\n4. Product: TechPro Desktop\\n   Category: Computers and Laptops\\n   Brand: TechPro\\n   Model Number: TP-DT500\\n   Warranty: 1 year\\n   Rating: 4.4\\n   Features: Intel Core i7 processor, 16GB RAM, 1TB HDD, NVIDIA GeForce GTX 1660\\n   Description: A powerful desktop computer for work and play.\\n   Price: $999.99\\n\\n5. Product: BlueWave Chromebook\\n   Category: Computers and Laptops\\n   Brand: BlueWave\\n   Model Number: BW-CB100\\n   Warranty: 1 year\\n   Rating: 4.1\\n   Features: 11.6-inch display, 4GB RAM, 32GB eMMC, Chrome OS\\n   Description: A compact and affordable Chromebook for everyday tasks.\\n   Price: $249.99\\n\\nStep 3:#### If the message contains products in the list above, list any assumptions that the user is making in their message e.g. that Laptop X is bigger than Laptop Y, or that Laptop Z has a 2 year warranty.\\n\\nStep 4:####: If the user made any assumptions, figure out whether the assumption is true based on your product information. \\n\\nStep 5:####: First, politely correct the customer's incorrect assumptions if applicable. Only mention or reference products in the list of 5 available products, as these are the only 5 products that the store sells. Answer the customer in a friendly tone.\\n\\nUse the following format:\\nStep 1:#### <step 1 reasoning>\\nStep 2:#### <step 2 reasoning>\\nStep 3:#### <step 3 reasoning>\\nStep 4:#### <step 4 reasoning>\\nResponse to user:#### <response to customer>\\n\\nMake sure to include #### to separate every step.\\n\"}, {'role': 'user', 'content': '####\\nby how much is the BlueWave Chromebook more expensive than the TechPro Desktop####'}]\n"
     ]
    }
   ],
   "source": [
    "user_message = f\"\"\"\n",
    "by how much is the BlueWave Chromebook more expensive \\\n",
    "than the TechPro Desktop\"\"\"\n",
    "\n",
    "messages =  [  \n",
    "{'role':'system', \n",
    " 'content': system_message},    \n",
    "{'role':'user', \n",
    " 'content': f\"{delimiter}{user_message}{delimiter}\"},  \n",
    "] \n",
    "\n",
    "print(messages)"
   ]
  },
  {
   "cell_type": "code",
   "execution_count": 5,
   "id": "d2599105",
   "metadata": {},
   "outputs": [
    {
     "name": "stdout",
     "output_type": "stream",
     "text": [
      "Step 1:#### The user is asking a question about two specific products, the BlueWave Chromebook and the TechPro Desktop.\n",
      "Step 2:#### The two products are in the list of available products.\n",
      "Step 3:#### The user assumes that the BlueWave Chromebook is more expensive than the TechPro Desktop.\n",
      "Step 4:#### The assumption is incorrect. The TechPro Desktop is more expensive than the BlueWave Chromebook.\n",
      "Response to user:#### The TechPro Desktop is actually more expensive than the BlueWave Chromebook. The TechPro Desktop costs $999.99, while the BlueWave Chromebook costs $249.99.\n"
     ]
    }
   ],
   "source": [
    "response = get_completion_from_messages(messages)\n",
    "print(response)"
   ]
  },
  {
   "cell_type": "code",
   "execution_count": 7,
   "id": "f51afe6d",
   "metadata": {},
   "outputs": [
    {
     "name": "stdout",
     "output_type": "stream",
     "text": [
      "[{'role': 'system', 'content': \"\\nFollow these steps to answer the customer queries.\\nThe customer query will be delimited with four hashtags,i.e. ####. \\n\\nStep 1:#### First decide whether the user is asking a question about a specific product or products. Product cateogry doesn't count. \\n\\nStep 2:#### If the user is asking about specific products, identify whether the products are in the following list.\\nAll available products: \\n1. Product: TechPro Ultrabook\\n   Category: Computers and Laptops\\n   Brand: TechPro\\n   Model Number: TP-UB100\\n   Warranty: 1 year\\n   Rating: 4.5\\n   Features: 13.3-inch display, 8GB RAM, 256GB SSD, Intel Core i5 processor\\n   Description: A sleek and lightweight ultrabook for everyday use.\\n   Price: $799.99\\n\\n2. Product: BlueWave Gaming Laptop\\n   Category: Computers and Laptops\\n   Brand: BlueWave\\n   Model Number: BW-GL200\\n   Warranty: 2 years\\n   Rating: 4.7\\n   Features: 15.6-inch display, 16GB RAM, 512GB SSD, NVIDIA GeForce RTX 3060\\n   Description: A high-performance gaming laptop for an immersive experience.\\n   Price: $1199.99\\n\\n3. Product: PowerLite Convertible\\n   Category: Computers and Laptops\\n   Brand: PowerLite\\n   Model Number: PL-CV300\\n   Warranty: 1 year\\n   Rating: 4.3\\n   Features: 14-inch touchscreen, 8GB RAM, 256GB SSD, 360-degree hinge\\n   Description: A versatile convertible laptop with a responsive touchscreen.\\n   Price: $699.99\\n\\n4. Product: TechPro Desktop\\n   Category: Computers and Laptops\\n   Brand: TechPro\\n   Model Number: TP-DT500\\n   Warranty: 1 year\\n   Rating: 4.4\\n   Features: Intel Core i7 processor, 16GB RAM, 1TB HDD, NVIDIA GeForce GTX 1660\\n   Description: A powerful desktop computer for work and play.\\n   Price: $999.99\\n\\n5. Product: BlueWave Chromebook\\n   Category: Computers and Laptops\\n   Brand: BlueWave\\n   Model Number: BW-CB100\\n   Warranty: 1 year\\n   Rating: 4.1\\n   Features: 11.6-inch display, 4GB RAM, 32GB eMMC, Chrome OS\\n   Description: A compact and affordable Chromebook for everyday tasks.\\n   Price: $249.99\\n\\nStep 3:#### If the message contains products in the list above, list any assumptions that the user is making in their message e.g. that Laptop X is bigger than Laptop Y, or that Laptop Z has a 2 year warranty.\\n\\nStep 4:####: If the user made any assumptions, figure out whether the assumption is true based on your product information. \\n\\nStep 5:####: First, politely correct the customer's incorrect assumptions if applicable. Only mention or reference products in the list of 5 available products, as these are the only 5 products that the store sells. Answer the customer in a friendly tone.\\n\\nUse the following format:\\nStep 1:#### <step 1 reasoning>\\nStep 2:#### <step 2 reasoning>\\nStep 3:#### <step 3 reasoning>\\nStep 4:#### <step 4 reasoning>\\nResponse to user:#### <response to customer>\\n\\nMake sure to include #### to separate every step.\\n\"}, {'role': 'user', 'content': '####\\ndo you sell tvs####'}]\n"
     ]
    }
   ],
   "source": [
    "user_message = f\"\"\"\n",
    "do you sell tvs\"\"\"\n",
    "messages =  [  \n",
    "{'role':'system', \n",
    " 'content': system_message},    \n",
    "{'role':'user', \n",
    " 'content': f\"{delimiter}{user_message}{delimiter}\"},  \n",
    "] \n",
    "print(messages)"
   ]
  },
  {
   "cell_type": "code",
   "execution_count": 8,
   "id": "fc4f7632",
   "metadata": {},
   "outputs": [
    {
     "name": "stdout",
     "output_type": "stream",
     "text": [
      "Step 1:#### The user is asking if the store sells TVs.\n",
      "Step 2:#### The list of available products does not include any TVs.\n",
      "Response to user:#### I'm sorry, but we do not sell TVs at this store. Our available products include computers and laptops.\n"
     ]
    }
   ],
   "source": [
    "response = get_completion_from_messages(messages)\n",
    "print(response)"
   ]
  },
  {
   "cell_type": "markdown",
   "id": "a552a4f6-5e65-4d85-9579-5263f720aa10",
   "metadata": {},
   "source": [
    "## Inner Monologue\n",
    "- Since we asked the LLM to separate its reasoning steps by a delimiter, we can hide the chain-of-thought reasoning from the final output that the user sees."
   ]
  },
  {
   "cell_type": "code",
   "execution_count": 9,
   "id": "2a825237",
   "metadata": {},
   "outputs": [
    {
     "name": "stdout",
     "output_type": "stream",
     "text": [
      "I'm sorry, but we do not sell TVs at this store. Our available products include computers and laptops.\n"
     ]
    }
   ],
   "source": [
    "try:\n",
    "    final_response = response.split(delimiter)[-1].strip()\n",
    "except Exception as e:\n",
    "    final_response = \"Sorry, I'm having trouble right now, please try asking another question.\"\n",
    "    \n",
    "    \n",
    "print(final_response)\n"
   ]
  }
 ],
 "metadata": {
  "kernelspec": {
   "display_name": "Python 3 (ipykernel)",
   "language": "python",
   "name": "python3"
  },
  "language_info": {
   "codemirror_mode": {
    "name": "ipython",
    "version": 3
   },
   "file_extension": ".py",
   "mimetype": "text/x-python",
   "name": "python",
   "nbconvert_exporter": "python",
   "pygments_lexer": "ipython3",
   "version": "3.9.6"
  }
 },
 "nbformat": 4,
 "nbformat_minor": 5
}
