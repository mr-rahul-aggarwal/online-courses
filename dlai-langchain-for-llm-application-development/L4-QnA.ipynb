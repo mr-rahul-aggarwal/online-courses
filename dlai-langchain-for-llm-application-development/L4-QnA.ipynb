{
 "cells": [
  {
   "cell_type": "markdown",
   "id": "52824b89-532a-4e54-87e9-1410813cd39e",
   "metadata": {},
   "source": [
    "# LangChain: Q&A over Documents\n",
    "\n",
    "An example might be a tool that would allow you to query a product catalog for items of interest."
   ]
  },
  {
   "cell_type": "code",
   "execution_count": null,
   "id": "10c1f7b9",
   "metadata": {},
   "outputs": [],
   "source": [
    "#pip install --upgrade langchain"
   ]
  },
  {
   "cell_type": "code",
   "execution_count": 1,
   "id": "b7ed03ed-1322-49e3-b2a2-33e94fb592ef",
   "metadata": {
    "tags": []
   },
   "outputs": [],
   "source": [
    "import warnings\n",
    "warnings.filterwarnings('ignore')"
   ]
  },
  {
   "cell_type": "markdown",
   "id": "ead635a0-42e2-46cc-a9f7-98419eceae6d",
   "metadata": {},
   "source": [
    "Note: LLM's do not always produce the same results. When executing the code in your notebook, you may get slightly different answers that those in the video."
   ]
  },
  {
   "cell_type": "code",
   "execution_count": 2,
   "id": "cc533037-0b8c-4995-96a3-45b35fa13c18",
   "metadata": {},
   "outputs": [],
   "source": [
    "import json\n",
    "\n",
    "file_path = 'config.json'  # Define the file path\n",
    "\n",
    "# Open and read the contents of the JSON file\n",
    "with open(file_path, 'r') as json_file:\n",
    "    creds= json.load(json_file)"
   ]
  },
  {
   "cell_type": "code",
   "execution_count": 9,
   "id": "974acf8e-8f88-42de-88f8-40a82cb58e8b",
   "metadata": {},
   "outputs": [],
   "source": [
    "from langchain.chains import RetrievalQA\n",
    "from langchain_openai import AzureChatOpenAI\n",
    "from langchain.document_loaders import CSVLoader\n",
    "from langchain.vectorstores import DocArrayInMemorySearch\n",
    "from IPython.display import display, Markdown\n"
   ]
  },
  {
   "cell_type": "code",
   "execution_count": 35,
   "id": "009ba79e",
   "metadata": {},
   "outputs": [
    {
     "name": "stdout",
     "output_type": "stream",
     "text": [
      "client=<openai.resources.chat.completions.Completions object at 0x140287f10> async_client=<openai.resources.chat.completions.AsyncCompletions object at 0x1403c9d30> model_name='gpt-3.5-turbo' temperature=0.01 openai_api_key=SecretStr('**********') openai_proxy='' azure_endpoint='https://rahulopenaiv01.openai.azure.com/' deployment_name='rahuldeployv01' openai_api_version='2024-05-01-preview' openai_api_type='azure'\n"
     ]
    }
   ],
   "source": [
    "llm = AzureChatOpenAI(\n",
    " azure_endpoint=creds[\"AZURE_OPENAI_ENDPOINT\"],\n",
    " api_key=creds[\"AZURE_OPENAI_KEY\"],\n",
    " api_version=creds[\"AZURE_OPENAI_APIVERSION\"],\n",
    " deployment_name=creds[\"CHATGPT_MODEL\"],\n",
    " model_name=\"gpt-3.5-turbo\",\n",
    " temperature=0.01) \n",
    "print(llm)"
   ]
  },
  {
   "cell_type": "code",
   "execution_count": 10,
   "id": "7249846e",
   "metadata": {},
   "outputs": [],
   "source": [
    "file = 'OutdoorClothingCatalog_1000.csv'\n",
    "loader = CSVLoader(file_path=file)"
   ]
  },
  {
   "cell_type": "code",
   "execution_count": 11,
   "id": "5bfaba30",
   "metadata": {},
   "outputs": [],
   "source": [
    "from langchain.indexes import VectorstoreIndexCreator"
   ]
  },
  {
   "cell_type": "code",
   "execution_count": 14,
   "id": "9b5ab657",
   "metadata": {},
   "outputs": [],
   "source": [
    "# !pip install docarray"
   ]
  },
  {
   "cell_type": "code",
   "execution_count": 29,
   "id": "096231a2",
   "metadata": {},
   "outputs": [],
   "source": [
    "from langchain_openai import AzureOpenAIEmbeddings\n",
    "\n",
    "embeddings = AzureOpenAIEmbeddings(\n",
    "    # model=\"text-embedding-3-small\",\n",
    "    azure_endpoint=creds[\"AZURE_OPENAI_ENDPOINT\"],\n",
    "    api_key=creds[\"AZURE_OPENAI_KEY\"],\n",
    "    api_version=creds[\"AZURE_OPENAI_APIVERSION\"],\n",
    "    deployment=\"embed_v01\"\n",
    ")\n",
    " "
   ]
  },
  {
   "cell_type": "code",
   "execution_count": 30,
   "id": "9e200726",
   "metadata": {},
   "outputs": [],
   "source": [
    "index = VectorstoreIndexCreator(\n",
    "    vectorstore_cls=DocArrayInMemorySearch,\n",
    "    embedding=embeddings\n",
    ").from_loaders([loader])"
   ]
  },
  {
   "cell_type": "code",
   "execution_count": 31,
   "id": "34562d81",
   "metadata": {},
   "outputs": [],
   "source": [
    "query =\"Please list all your shirts with sun protection \\\n",
    "in a table in markdown and summarize each one.\""
   ]
  },
  {
   "cell_type": "code",
   "execution_count": 36,
   "id": "cfd0cc37",
   "metadata": {},
   "outputs": [],
   "source": [
    "response = index.query(query,llm = llm)"
   ]
  },
  {
   "cell_type": "code",
   "execution_count": 39,
   "id": "fcfb134b",
   "metadata": {},
   "outputs": [
    {
     "name": "stdout",
     "output_type": "stream",
     "text": [
      "| Shirt Name | Description |\n",
      "| --- | --- |\n",
      "| Sun Shield Shirt | High-performance sun shirt made of 78% nylon and 22% Lycra Xtra Life fiber. UPF 50+ rated. Wicks moisture for quick-drying comfort. Fits comfortably over your favorite swimsuit. Abrasion-resistant. Provides SPF 50+ sun protection, blocking 98% of the sun's harmful rays. |\n",
      "| Men's Tropical Plaid Short-Sleeve Shirt | Lightest hot-weather shirt made of 100% polyester. Rated UPF 50+. Traditional fit that is relaxed through the chest, sleeve, and waist. Wrinkle-resistant. Front and back cape venting that lets in cool breezes and two front bellows pockets. Provides SPF 50+ sun protection, blocking 98% of the sun's harmful rays. |\n",
      "| Men's Plaid Tropic Shirt, Short-Sleeve | Ultracomfortable sun protection made with 52% polyester and 48% nylon. Rated UPF 50+. Originally designed for fishing. Lightest hot-weather shirt that offers UPF 50+ coverage and is great for extended travel. SunSmart technology blocks 98% of the sun's harmful UV rays. Wrinkle-free and quickly evaporates perspiration. Front and back cape venting and two front bellows pockets. Provides UPF 50+ coverage. |\n",
      "| Tropical Breeze Shirt | Lightweight, breathable long-sleeve men’s UPF shirt made of 71% nylon and 29% polyester. UPF 50+ rated. Traditional fit that is relaxed through the chest, sleeve, and waist. Wrinkle-resistant and moisture-wicking fabric. Originally designed for fishing. Innovative SunSmart technology blocks 98% of the sun's harmful UV rays. Polyester-mesh inserts. |\n",
      "\n",
      "- Sun Shield Shirt: Made of nylon and Lycra Xtra Life fiber, this high-performance sun shirt is UPF 50+ rated and provides SPF 50+ sun protection, blocking 98% of the sun's harmful rays. It wicks moisture for quick-drying comfort, fits comfortably over your favorite swimsuit, and is abrasion-resistant.\n",
      "- Men's Tropical Plaid Short-Sleeve Shirt: This lightest hot-weather shirt is made of polyester and is UPF 50+ rated. It has a traditional fit that is relaxed through the chest, sleeve, and waist, and is wrinkle-resistant. It features front and back cape venting that lets in cool breezes and two front bellows pockets.\n",
      "- Men's Plaid Tropic Shirt, Short-Sleeve: This ultracomfortable sun protection shirt is made with polyester and nylon, and is UPF 50+ rated. Originally designed for fishing, it is the lightest hot-weather shirt that offers UPF 50+ coverage and is great for extended travel. It features SunSmart technology that blocks 98% of the sun's harmful UV rays, and is wrinkle-free and quickly evaporates perspiration. It also has front and back cape venting and two front bellows pockets.\n",
      "- Tropical Breeze Shirt: This lightweight, breathable long-sleeve men’s UPF shirt is made of nylon and polyester, and is UPF 50+ rated. It has a traditional fit that is relaxed through the chest, sleeve, and waist, and is wrinkle-resistant and moisture-wicking. Originally designed for fishing, it features innovative SunSmart technology that blocks 98% of the sun's harmful UV rays, and has polyester-mesh inserts.\n"
     ]
    }
   ],
   "source": [
    "print(response)"
   ]
  },
  {
   "cell_type": "code",
   "execution_count": 37,
   "id": "ae21f1ff",
   "metadata": {
    "scrolled": true
   },
   "outputs": [
    {
     "data": {
      "text/markdown": [
       "| Shirt Name | Description |\n",
       "| --- | --- |\n",
       "| Sun Shield Shirt | High-performance sun shirt made of 78% nylon and 22% Lycra Xtra Life fiber. UPF 50+ rated. Wicks moisture for quick-drying comfort. Fits comfortably over your favorite swimsuit. Abrasion-resistant. Provides SPF 50+ sun protection, blocking 98% of the sun's harmful rays. |\n",
       "| Men's Tropical Plaid Short-Sleeve Shirt | Lightest hot-weather shirt made of 100% polyester. Rated UPF 50+. Traditional fit that is relaxed through the chest, sleeve, and waist. Wrinkle-resistant. Front and back cape venting that lets in cool breezes and two front bellows pockets. Provides SPF 50+ sun protection, blocking 98% of the sun's harmful rays. |\n",
       "| Men's Plaid Tropic Shirt, Short-Sleeve | Ultracomfortable sun protection made with 52% polyester and 48% nylon. Rated UPF 50+. Originally designed for fishing. Lightest hot-weather shirt that offers UPF 50+ coverage and is great for extended travel. SunSmart technology blocks 98% of the sun's harmful UV rays. Wrinkle-free and quickly evaporates perspiration. Front and back cape venting and two front bellows pockets. Provides UPF 50+ coverage. |\n",
       "| Tropical Breeze Shirt | Lightweight, breathable long-sleeve men’s UPF shirt made of 71% nylon and 29% polyester. UPF 50+ rated. Traditional fit that is relaxed through the chest, sleeve, and waist. Wrinkle-resistant and moisture-wicking fabric. Originally designed for fishing. Innovative SunSmart technology blocks 98% of the sun's harmful UV rays. Polyester-mesh inserts. |\n",
       "\n",
       "- Sun Shield Shirt: Made of nylon and Lycra Xtra Life fiber, this high-performance sun shirt is UPF 50+ rated and provides SPF 50+ sun protection, blocking 98% of the sun's harmful rays. It wicks moisture for quick-drying comfort, fits comfortably over your favorite swimsuit, and is abrasion-resistant.\n",
       "- Men's Tropical Plaid Short-Sleeve Shirt: This lightest hot-weather shirt is made of polyester and is UPF 50+ rated. It has a traditional fit that is relaxed through the chest, sleeve, and waist, and is wrinkle-resistant. It features front and back cape venting that lets in cool breezes and two front bellows pockets.\n",
       "- Men's Plaid Tropic Shirt, Short-Sleeve: This ultracomfortable sun protection shirt is made with polyester and nylon, and is UPF 50+ rated. Originally designed for fishing, it is the lightest hot-weather shirt that offers UPF 50+ coverage and is great for extended travel. It features SunSmart technology that blocks 98% of the sun's harmful UV rays, and is wrinkle-free and quickly evaporates perspiration. It also has front and back cape venting and two front bellows pockets.\n",
       "- Tropical Breeze Shirt: This lightweight, breathable long-sleeve men’s UPF shirt is made of nylon and polyester, and is UPF 50+ rated. It has a traditional fit that is relaxed through the chest, sleeve, and waist, and is wrinkle-resistant and moisture-wicking. Originally designed for fishing, it features innovative SunSmart technology that blocks 98% of the sun's harmful UV rays, and has polyester-mesh inserts."
      ],
      "text/plain": [
       "<IPython.core.display.Markdown object>"
      ]
     },
     "metadata": {},
     "output_type": "display_data"
    }
   ],
   "source": [
    "display(Markdown(response))"
   ]
  },
  {
   "cell_type": "markdown",
   "id": "2534597e-4b0c-4563-a208-e2dd91064438",
   "metadata": {},
   "source": [
    "## Step By Step"
   ]
  },
  {
   "cell_type": "code",
   "execution_count": 40,
   "id": "631396c6",
   "metadata": {},
   "outputs": [],
   "source": [
    "from langchain.document_loaders import CSVLoader\n",
    "loader = CSVLoader(file_path=file)"
   ]
  },
  {
   "cell_type": "code",
   "execution_count": 41,
   "id": "6c2164b5",
   "metadata": {},
   "outputs": [],
   "source": [
    "docs = loader.load()"
   ]
  },
  {
   "cell_type": "code",
   "execution_count": 42,
   "id": "4a977f44",
   "metadata": {},
   "outputs": [
    {
     "data": {
      "text/plain": [
       "Document(metadata={'source': 'OutdoorClothingCatalog_1000.csv', 'row': 0}, page_content=\": 0\\nname: Women's Campside Oxfords\\ndescription: This ultracomfortable lace-to-toe Oxford boasts a super-soft canvas, thick cushioning, and quality construction for a broken-in feel from the first time you put them on. \\n\\nSize & Fit: Order regular shoe size. For half sizes not offered, order up to next whole size. \\n\\nSpecs: Approx. weight: 1 lb.1 oz. per pair. \\n\\nConstruction: Soft canvas material for a broken-in feel and look. Comfortable EVA innersole with Cleansport NXT® antimicrobial odor control. Vintage hunt, fish and camping motif on innersole. Moderate arch contour of innersole. EVA foam midsole for cushioning and support. Chain-tread-inspired molded rubber outsole with modified chain-tread pattern. Imported. \\n\\nQuestions? Please contact us for any inquiries.\")"
      ]
     },
     "execution_count": 42,
     "metadata": {},
     "output_type": "execute_result"
    }
   ],
   "source": [
    "docs[0]"
   ]
  },
  {
   "cell_type": "code",
   "execution_count": 43,
   "id": "779bec75",
   "metadata": {},
   "outputs": [],
   "source": [
    "embed = embeddings.embed_query(\"Hi my name is Harrison\")"
   ]
  },
  {
   "cell_type": "code",
   "execution_count": 44,
   "id": "699aaaf9",
   "metadata": {},
   "outputs": [
    {
     "name": "stdout",
     "output_type": "stream",
     "text": [
      "1536\n"
     ]
    }
   ],
   "source": [
    "print(len(embed))"
   ]
  },
  {
   "cell_type": "code",
   "execution_count": 45,
   "id": "9d00d346",
   "metadata": {},
   "outputs": [
    {
     "name": "stdout",
     "output_type": "stream",
     "text": [
      "[0.005708176642656326, -0.005911823362112045, -0.06263796985149384, 0.02263817936182022, -0.051403988152742386]\n"
     ]
    }
   ],
   "source": [
    "print(embed[:5])"
   ]
  },
  {
   "cell_type": "code",
   "execution_count": 47,
   "id": "27ad0bb0",
   "metadata": {},
   "outputs": [],
   "source": [
    "db = DocArrayInMemorySearch.from_documents(\n",
    "    docs, \n",
    "    embeddings\n",
    ")"
   ]
  },
  {
   "cell_type": "code",
   "execution_count": 46,
   "id": "0329bfd5",
   "metadata": {},
   "outputs": [],
   "source": [
    "query = \"Please suggest a shirt with sunblocking\""
   ]
  },
  {
   "cell_type": "code",
   "execution_count": 48,
   "id": "7909c6b7",
   "metadata": {},
   "outputs": [],
   "source": [
    "docs = db.similarity_search(query)"
   ]
  },
  {
   "cell_type": "code",
   "execution_count": 49,
   "id": "43321853",
   "metadata": {},
   "outputs": [
    {
     "data": {
      "text/plain": [
       "4"
      ]
     },
     "execution_count": 49,
     "metadata": {},
     "output_type": "execute_result"
    }
   ],
   "source": [
    "len(docs)"
   ]
  },
  {
   "cell_type": "code",
   "execution_count": 50,
   "id": "6eba90b5",
   "metadata": {},
   "outputs": [
    {
     "data": {
      "text/plain": [
       "Document(metadata={'source': 'OutdoorClothingCatalog_1000.csv', 'row': 255}, page_content=': 255\\nname: Sun Shield Shirt by\\ndescription: \"Block the sun, not the fun – our high-performance sun shirt is guaranteed to protect from harmful UV rays. \\n\\nSize & Fit: Slightly Fitted: Softly shapes the body. Falls at hip.\\n\\nFabric & Care: 78% nylon, 22% Lycra Xtra Life fiber. UPF 50+ rated – the highest rated sun protection possible. Handwash, line dry.\\n\\nAdditional Features: Wicks moisture for quick-drying comfort. Fits comfortably over your favorite swimsuit. Abrasion resistant for season after season of wear. Imported.\\n\\nSun Protection That Won\\'t Wear Off\\nOur high-performance fabric provides SPF 50+ sun protection, blocking 98% of the sun\\'s harmful rays. This fabric is recommended by The Skin Cancer Foundation as an effective UV protectant.')"
      ]
     },
     "execution_count": 50,
     "metadata": {},
     "output_type": "execute_result"
    }
   ],
   "source": [
    "docs[0]"
   ]
  },
  {
   "cell_type": "code",
   "execution_count": 51,
   "id": "c0c3596e",
   "metadata": {},
   "outputs": [],
   "source": [
    "retriever = db.as_retriever()"
   ]
  },
  {
   "cell_type": "code",
   "execution_count": 52,
   "id": "a573f58a",
   "metadata": {},
   "outputs": [
    {
     "data": {
      "text/plain": [
       "': 255\\nname: Sun Shield Shirt by\\ndescription: \"Block the sun, not the fun – our high-performance sun shirt is guaranteed to protect from harmful UV rays. \\n\\nSize & Fit: Slightly Fitted: Softly shapes the body. Falls at hip.\\n\\nFabric & Care: 78% nylon, 22% Lycra Xtra Life fiber. UPF 50+ rated – the highest rated sun protection possible. Handwash, line dry.\\n\\nAdditional Features: Wicks moisture for quick-drying comfort. Fits comfortably over your favorite swimsuit. Abrasion resistant for season after season of wear. Imported.\\n\\nSun Protection That Won\\'t Wear Off\\nOur high-performance fabric provides SPF 50+ sun protection, blocking 98% of the sun\\'s harmful rays. This fabric is recommended by The Skin Cancer Foundation as an effective UV protectant.: 618\\nname: Men\\'s Tropical Plaid Short-Sleeve Shirt\\ndescription: Our lightest hot-weather shirt is rated UPF 50+ for superior protection from the sun\\'s UV rays. With a traditional fit that is relaxed through the chest, sleeve, and waist, this fabric is made of 100% polyester and is wrinkle-resistant. With front and back cape venting that lets in cool breezes and two front bellows pockets, this shirt is imported and provides the highest rated sun protection possible. \\n\\nSun Protection That Won\\'t Wear Off. Our high-performance fabric provides SPF 50+ sun protection, blocking 98% of the sun\\'s harmful rays.: 374\\nname: Men\\'s Plaid Tropic Shirt, Short-Sleeve\\ndescription: Our Ultracomfortable sun protection is rated to UPF 50+, helping you stay cool and dry. Originally designed for fishing, this lightest hot-weather shirt offers UPF 50+ coverage and is great for extended travel. SunSmart technology blocks 98% of the sun\\'s harmful UV rays, while the high-performance fabric is wrinkle-free and quickly evaporates perspiration. Made with 52% polyester and 48% nylon, this shirt is machine washable and dryable. Additional features include front and back cape venting, two front bellows pockets and an imported design. With UPF 50+ coverage, you can limit sun exposure and feel secure with the highest rated sun protection available.: 619\\nname: Tropical Breeze Shirt\\ndescription: Beat the heat in this lightweight, breathable long-sleeve men’s UPF shirt, offering superior SunSmart™ protection from the sun’s harmful rays. The wrinkle-resistant and moisture-wicking fabric keeps you cool and comfortable.\\n\\nSize & Fit\\n\\nTraditional Fit: Relaxed through the chest, sleeve and waist.\\n\\nWhy We Love It\\n\\nWhen you spend a lot of time outdoors, limiting sun exposure is important. Originally designed for fishing, our lightest hot-weather shirt offers UPF 50+ coverage and is also a great choice for extended travel. Innovative SunSmart technology blocks 98% of the sun\\'s harmful UV rays. The high-performance fabric is wrinkle free, dries quickly and keeps you cool by wicking perspiration away from your skin.\\n\\nFabric & Care\\n\\nShell: 71% nylon, 29% polyester.\\nCape lining: 100% polyester.\\nPolyester-mesh inserts.\\nUPF 50+ rated – the highest rated sun protection possible.\\nMachine wash and dry.\\n\\nAdditional Features\\n\\nWrinkle-resistant fabric. \\nFront and back cape venting lets in cool breezes.\\nTwo front bell'"
      ]
     },
     "execution_count": 52,
     "metadata": {},
     "output_type": "execute_result"
    }
   ],
   "source": [
    "qdocs = \"\".join([docs[i].page_content for i in range(len(docs))])\n",
    "qdocs"
   ]
  },
  {
   "cell_type": "code",
   "execution_count": 53,
   "id": "14682d95",
   "metadata": {},
   "outputs": [
    {
     "name": "stderr",
     "output_type": "stream",
     "text": [
      "/Users/rahulaggarwal/Desktop/myGitHub/online-courses/dlai-langchain-for-llm-application-development/.venv/lib/python3.9/site-packages/langchain_core/_api/deprecation.py:141: LangChainDeprecationWarning: The method `BaseChatModel.call_as_llm` was deprecated in langchain-core 0.1.7 and will be removed in 0.3.0. Use invoke instead.\n",
      "  warn_deprecated(\n"
     ]
    }
   ],
   "source": [
    "response = llm.call_as_llm(f\"{qdocs} Question: Please list all your \\\n",
    "shirts with sun protection in a table in markdown and summarize each one.\") "
   ]
  },
  {
   "cell_type": "code",
   "execution_count": 54,
   "id": "8bba545b",
   "metadata": {},
   "outputs": [
    {
     "data": {
      "text/markdown": [
       "| Shirt Name | Description |\n",
       "| --- | --- |\n",
       "| Sun Shield Shirt | A high-performance sun shirt that provides UPF 50+ sun protection, blocks 98% of the sun's harmful rays, and is made of 78% nylon and 22% Lycra Xtra Life fiber. It wicks moisture for quick-drying comfort, fits comfortably over swimsuits, and is abrasion-resistant. |\n",
       "| Men's Tropical Plaid Short-Sleeve Shirt | The lightest hot-weather shirt that is rated UPF 50+ for superior protection from the sun's UV rays. It is made of 100% polyester, is wrinkle-resistant, and has front and back cape venting that lets in cool breezes and two front bellows pockets. |\n",
       "| Men's Plaid Tropic Shirt, Short-Sleeve | An ultracomfortable sun protection shirt that is rated UPF 50+ and made with 52% polyester and 48% nylon. It offers UPF 50+ coverage, blocks 98% of the sun's harmful UV rays, and is wrinkle-free and quickly evaporates perspiration. It also has front and back cape venting and two front bellows pockets. |\n",
       "| Tropical Breeze Shirt | A lightweight, breathable long-sleeve men’s UPF shirt that offers superior SunSmart™ protection from the sun’s harmful rays. It is made of 71% nylon and 29% polyester, has UPF 50+ coverage, and is wrinkle-resistant and moisture-wicking. It also has front and back cape venting and two front bellows pockets. |"
      ],
      "text/plain": [
       "<IPython.core.display.Markdown object>"
      ]
     },
     "metadata": {},
     "output_type": "display_data"
    }
   ],
   "source": [
    "display(Markdown(response))"
   ]
  },
  {
   "cell_type": "code",
   "execution_count": 55,
   "id": "32c94d22",
   "metadata": {},
   "outputs": [],
   "source": [
    "qa_stuff = RetrievalQA.from_chain_type(\n",
    "    llm=llm, \n",
    "    chain_type=\"stuff\", \n",
    "    retriever=retriever, \n",
    "    verbose=True\n",
    ")"
   ]
  },
  {
   "cell_type": "code",
   "execution_count": 56,
   "id": "e4769316",
   "metadata": {},
   "outputs": [],
   "source": [
    "query =  \"Please list all your shirts with sun protection in a table \\\n",
    "in markdown and summarize each one.\""
   ]
  },
  {
   "cell_type": "code",
   "execution_count": 57,
   "id": "1fc3c2f3",
   "metadata": {},
   "outputs": [
    {
     "name": "stderr",
     "output_type": "stream",
     "text": [
      "/Users/rahulaggarwal/Desktop/myGitHub/online-courses/dlai-langchain-for-llm-application-development/.venv/lib/python3.9/site-packages/langchain_core/_api/deprecation.py:141: LangChainDeprecationWarning: The method `Chain.run` was deprecated in langchain 0.1.0 and will be removed in 0.3.0. Use invoke instead.\n",
      "  warn_deprecated(\n"
     ]
    },
    {
     "name": "stdout",
     "output_type": "stream",
     "text": [
      "\n",
      "\n",
      "\u001b[1m> Entering new RetrievalQA chain...\u001b[0m\n",
      "\n",
      "\u001b[1m> Finished chain.\u001b[0m\n"
     ]
    }
   ],
   "source": [
    "response = qa_stuff.run(query)"
   ]
  },
  {
   "cell_type": "code",
   "execution_count": 58,
   "id": "fba1a5db",
   "metadata": {},
   "outputs": [
    {
     "data": {
      "text/markdown": [
       "| Shirt Name | Description |\n",
       "| --- | --- |\n",
       "| Sun Shield Shirt | High-performance sun shirt made of 78% nylon and 22% Lycra Xtra Life fiber. UPF 50+ rated. Wicks moisture for quick-drying comfort. Fits comfortably over your favorite swimsuit. Abrasion-resistant. Provides SPF 50+ sun protection, blocking 98% of the sun's harmful rays. |\n",
       "| Men's Tropical Plaid Short-Sleeve Shirt | Lightest hot-weather shirt made of 100% polyester. Rated UPF 50+ for superior protection from the sun's UV rays. Traditional fit that is relaxed through the chest, sleeve, and waist. Wrinkle-resistant. Front and back cape venting that lets in cool breezes. Two front bellows pockets. Provides SPF 50+ sun protection, blocking 98% of the sun's harmful rays. |\n",
       "| Men's Plaid Tropic Shirt, Short-Sleeve | Ultracomfortable sun protection rated to UPF 50+. Made with 52% polyester and 48% nylon. Originally designed for fishing. Lightest hot-weather shirt that offers UPF 50+ coverage. SunSmart technology blocks 98% of the sun's harmful UV rays. High-performance fabric is wrinkle-free and quickly evaporates perspiration. Front and back cape venting. Two front bellows pockets. Provides UPF 50+ coverage, limiting sun exposure and providing the highest rated sun protection available. |\n",
       "| Tropical Breeze Shirt | Lightweight, breathable long-sleeve men’s UPF shirt. Made of 71% nylon and 29% polyester. UPF 50+ rated. Wrinkle-resistant and moisture-wicking fabric keeps you cool and comfortable. Traditional fit that is relaxed through the chest, sleeve, and waist. Originally designed for fishing. Innovative SunSmart technology blocks 98% of the sun's harmful UV rays. Front and back cape venting lets in cool breezes. Two front bellows pockets. |\n",
       "\n",
       "Summary:\n",
       "- Sun Shield Shirt: High-performance sun shirt made of nylon and Lycra Xtra Life fiber. Provides SPF 50+ sun protection, blocking 98% of the sun's harmful rays.\n",
       "- Men's Tropical Plaid Short-Sleeve Shirt: Lightest hot-weather shirt made of polyester. Rated UPF 50+. Provides SPF 50+ sun protection, blocking 98% of the sun's harmful rays.\n",
       "- Men's Plaid Tropic Shirt, Short-Sleeve: Ultracomfortable sun protection rated to UPF 50+. Made with polyester and nylon. Provides UPF 50+ coverage, limiting sun exposure and providing the highest rated sun protection available.\n",
       "- Tropical Breeze Shirt: Lightweight, breathable long-sleeve men’s UPF shirt made of nylon and polyester. Provides UPF 50+ sun protection, blocking 98% of the sun's harmful rays."
      ],
      "text/plain": [
       "<IPython.core.display.Markdown object>"
      ]
     },
     "metadata": {},
     "output_type": "display_data"
    }
   ],
   "source": [
    "display(Markdown(response))"
   ]
  }
 ],
 "metadata": {
  "kernelspec": {
   "display_name": ".venv",
   "language": "python",
   "name": "python3"
  },
  "language_info": {
   "codemirror_mode": {
    "name": "ipython",
    "version": 3
   },
   "file_extension": ".py",
   "mimetype": "text/x-python",
   "name": "python",
   "nbconvert_exporter": "python",
   "pygments_lexer": "ipython3",
   "version": "3.9.6"
  }
 },
 "nbformat": 4,
 "nbformat_minor": 5
}
