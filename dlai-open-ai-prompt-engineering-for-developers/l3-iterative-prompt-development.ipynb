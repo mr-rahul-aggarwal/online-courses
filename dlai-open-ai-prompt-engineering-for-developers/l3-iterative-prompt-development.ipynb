{
 "cells": [
  {
   "cell_type": "markdown",
   "id": "b97ddf3b-d921-4169-9d82-b0ee95e9eccd",
   "metadata": {},
   "source": [
    "# Iterative Prompt Development\n",
    "In this lesson, you'll iteratively analyze and refine your prompts to generate marketing copy from a product fact sheet.\n",
    "\n",
    "## Setup"
   ]
  },
  {
   "cell_type": "code",
   "execution_count": 1,
   "id": "2800e646",
   "metadata": {
    "tags": []
   },
   "outputs": [],
   "source": [
    "import os\n",
    "from openai import AzureOpenAI\n",
    "\n",
    "client = AzureOpenAI(\n",
    "    api_key=os.getenv(\"AZURE_OPENAI_API_KEY\"),  \n",
    "    api_version=\"2024-02-01\",\n",
    "    azure_endpoint = os.getenv(\"AZURE_OPENAI_ENDPOINT\"))\n",
    "\n",
    "deployment_name = os.getenv(\"AZURE_OPENAI_DEPLOYMENT_NAME\")"
   ]
  },
  {
   "cell_type": "code",
   "execution_count": 2,
   "id": "9fb6f2de",
   "metadata": {
    "tags": []
   },
   "outputs": [],
   "source": [
    "def get_completion(prompt,model_name=deployment_name):\n",
    "    completion = client.chat.completions.create(\n",
    "        model=model_name,\n",
    "        max_tokens=800,\n",
    "        temperature=0.01,# this is the degree of randomness of the model's output\n",
    "        messages= [{\"role\": \"user\", \"content\": prompt}]\n",
    "        )\n",
    "    return completion.choices[0].message.content"
   ]
  },
  {
   "cell_type": "markdown",
   "id": "71d1a1df-03c3-4f38-af6d-3962362f3dcd",
   "metadata": {},
   "source": [
    "## Generate a marketing product description from a product fact sheet"
   ]
  },
  {
   "cell_type": "code",
   "execution_count": 3,
   "id": "5be90e47",
   "metadata": {
    "tags": []
   },
   "outputs": [],
   "source": [
    "fact_sheet_chair = \"\"\"\n",
    "OVERVIEW\n",
    "- Part of a beautiful family of mid-century inspired office furniture, \n",
    "including filing cabinets, desks, bookcases, meeting tables, and more.\n",
    "- Several options of shell color and base finishes.\n",
    "- Available with plastic back and front upholstery (SWC-100) \n",
    "or full upholstery (SWC-110) in 10 fabric and 6 leather options.\n",
    "- Base finish options are: stainless steel, matte black, \n",
    "gloss white, or chrome.\n",
    "- Chair is available with or without armrests.\n",
    "- Suitable for home or business settings.\n",
    "- Qualified for contract use.\n",
    "\n",
    "CONSTRUCTION\n",
    "- 5-wheel plastic coated aluminum base.\n",
    "- Pneumatic chair adjust for easy raise/lower action.\n",
    "\n",
    "DIMENSIONS\n",
    "- WIDTH 53 CM | 20.87”\n",
    "- DEPTH 51 CM | 20.08”\n",
    "- HEIGHT 80 CM | 31.50”\n",
    "- SEAT HEIGHT 44 CM | 17.32”\n",
    "- SEAT DEPTH 41 CM | 16.14”\n",
    "\n",
    "OPTIONS\n",
    "- Soft or hard-floor caster options.\n",
    "- Two choices of seat foam densities: \n",
    " medium (1.8 lb/ft3) or high (2.8 lb/ft3)\n",
    "- Armless or 8 position PU armrests \n",
    "\n",
    "MATERIALS\n",
    "SHELL BASE GLIDER\n",
    "- Cast Aluminum with modified nylon PA6/PA66 coating.\n",
    "- Shell thickness: 10 mm.\n",
    "SEAT\n",
    "- HD36 foam\n",
    "\n",
    "COUNTRY OF ORIGIN\n",
    "- Italy\n",
    "\"\"\""
   ]
  },
  {
   "cell_type": "code",
   "execution_count": 10,
   "id": "4f656d0c",
   "metadata": {
    "tags": []
   },
   "outputs": [
    {
     "name": "stdout",
     "output_type": "stream",
     "text": [
      "\n",
      "Your task is to help a marketing team create a \n",
      "description for a retail website of a product based \n",
      "on a technical fact sheet.\n",
      "\n",
      "Write a product description based on the information \n",
      "provided in the technical specifications delimited by \n",
      "triple backticks.\n",
      "\n",
      "Technical specifications: ```\n",
      "OVERVIEW\n",
      "- Part of a beautiful family of mid-century inspired office furniture, \n",
      "including filing cabinets, desks, bookcases, meeting tables, and more.\n",
      "- Several options of shell color and base finishes.\n",
      "- Available with plastic back and front upholstery (SWC-100) \n",
      "or full upholstery (SWC-110) in 10 fabric and 6 leather options.\n",
      "- Base finish options are: stainless steel, matte black, \n",
      "gloss white, or chrome.\n",
      "- Chair is available with or without armrests.\n",
      "- Suitable for home or business settings.\n",
      "- Qualified for contract use.\n",
      "\n",
      "CONSTRUCTION\n",
      "- 5-wheel plastic coated aluminum base.\n",
      "- Pneumatic chair adjust for easy raise/lower action.\n",
      "\n",
      "DIMENSIONS\n",
      "- WIDTH 53 CM | 20.87”\n",
      "- DEPTH 51 CM | 20.08”\n",
      "- HEIGHT 80 CM | 31.50”\n",
      "- SEAT HEIGHT 44 CM | 17.32”\n",
      "- SEAT DEPTH 41 CM | 16.14”\n",
      "\n",
      "OPTIONS\n",
      "- Soft or hard-floor caster options.\n",
      "- Two choices of seat foam densities: \n",
      " medium (1.8 lb/ft3) or high (2.8 lb/ft3)\n",
      "- Armless or 8 position PU armrests \n",
      "\n",
      "MATERIALS\n",
      "SHELL BASE GLIDER\n",
      "- Cast Aluminum with modified nylon PA6/PA66 coating.\n",
      "- Shell thickness: 10 mm.\n",
      "SEAT\n",
      "- HD36 foam\n",
      "\n",
      "COUNTRY OF ORIGIN\n",
      "- Italy\n",
      "```\n",
      "\n"
     ]
    }
   ],
   "source": [
    "prompt = f\"\"\"\n",
    "Your task is to help a marketing team create a \n",
    "description for a retail website of a product based \n",
    "on a technical fact sheet.\n",
    "\n",
    "Write a product description based on the information \n",
    "provided in the technical specifications delimited by \n",
    "triple backticks.\n",
    "\n",
    "Technical specifications: ```{fact_sheet_chair}```\n",
    "\"\"\"\n",
    "print(prompt)\n"
   ]
  },
  {
   "cell_type": "code",
   "execution_count": 13,
   "id": "8f754858",
   "metadata": {},
   "outputs": [
    {
     "name": "stdout",
     "output_type": "stream",
     "text": [
      "Introducing our stunning mid-century inspired office chair, the perfect addition to any home or business setting. Part of a beautiful family of office furniture, including filing cabinets, desks, bookcases, meeting tables, and more, this chair is available in several options of shell color and base finishes to suit your style. Choose from plastic back and front upholstery (SWC-100) or full upholstery (SWC-110) in 10 fabric and 6 leather options.\n",
      "\n",
      "The chair is constructed with a 5-wheel plastic coated aluminum base and features a pneumatic chair adjust for easy raise/lower action. It is available with or without armrests and is qualified for contract use. The base finish options are stainless steel, matte black, gloss white, or chrome.\n",
      "\n",
      "Measuring at a width of 53 cm, depth of 51 cm, and height of 80 cm, with a seat height of 44 cm and seat depth of 41 cm, this chair is designed for ultimate comfort. You can also choose between soft or hard-floor caster options and two choices of seat foam densities: medium (1.8 lb/ft3) or high (2.8 lb/ft3). The armrests are available in either an armless or 8 position PU option.\n",
      "\n",
      "The materials used in the construction of this chair are of the highest quality. The shell base glider is made of cast aluminum with modified nylon PA6/PA66 coating and has a shell thickness of 10 mm. The seat is made of HD36 foam, ensuring maximum comfort and durability.\n",
      "\n",
      "This chair is made in Italy and is the perfect combination of style and functionality. Upgrade your workspace with our mid-century inspired office chair today!\n"
     ]
    }
   ],
   "source": [
    "response = get_completion(prompt)\n",
    "print(response)"
   ]
  },
  {
   "cell_type": "markdown",
   "id": "e1361d6f-6022-4b7a-8107-b2e2ff5efd32",
   "metadata": {},
   "source": [
    "## Issue 1: The text is too long \n",
    "- Limit the number of words/sentences/characters."
   ]
  },
  {
   "cell_type": "code",
   "execution_count": 14,
   "id": "f6129532",
   "metadata": {
    "tags": []
   },
   "outputs": [
    {
     "name": "stdout",
     "output_type": "stream",
     "text": [
      "\n",
      "Your task is to help a marketing team create a \n",
      "description for a retail website of a product based \n",
      "on a technical fact sheet.\n",
      "\n",
      "Write a product description based on the information \n",
      "provided in the technical specifications delimited by \n",
      "triple backticks.\n",
      "\n",
      "Use at most 100 words.\n",
      "\n",
      "Technical specifications: ```\n",
      "OVERVIEW\n",
      "- Part of a beautiful family of mid-century inspired office furniture, \n",
      "including filing cabinets, desks, bookcases, meeting tables, and more.\n",
      "- Several options of shell color and base finishes.\n",
      "- Available with plastic back and front upholstery (SWC-100) \n",
      "or full upholstery (SWC-110) in 10 fabric and 6 leather options.\n",
      "- Base finish options are: stainless steel, matte black, \n",
      "gloss white, or chrome.\n",
      "- Chair is available with or without armrests.\n",
      "- Suitable for home or business settings.\n",
      "- Qualified for contract use.\n",
      "\n",
      "CONSTRUCTION\n",
      "- 5-wheel plastic coated aluminum base.\n",
      "- Pneumatic chair adjust for easy raise/lower action.\n",
      "\n",
      "DIMENSIONS\n",
      "- WIDTH 53 CM | 20.87”\n",
      "- DEPTH 51 CM | 20.08”\n",
      "- HEIGHT 80 CM | 31.50”\n",
      "- SEAT HEIGHT 44 CM | 17.32”\n",
      "- SEAT DEPTH 41 CM | 16.14”\n",
      "\n",
      "OPTIONS\n",
      "- Soft or hard-floor caster options.\n",
      "- Two choices of seat foam densities: \n",
      " medium (1.8 lb/ft3) or high (2.8 lb/ft3)\n",
      "- Armless or 8 position PU armrests \n",
      "\n",
      "MATERIALS\n",
      "SHELL BASE GLIDER\n",
      "- Cast Aluminum with modified nylon PA6/PA66 coating.\n",
      "- Shell thickness: 10 mm.\n",
      "SEAT\n",
      "- HD36 foam\n",
      "\n",
      "COUNTRY OF ORIGIN\n",
      "- Italy\n",
      "```\n",
      "\n"
     ]
    }
   ],
   "source": [
    "prompt = f\"\"\"\n",
    "Your task is to help a marketing team create a \n",
    "description for a retail website of a product based \n",
    "on a technical fact sheet.\n",
    "\n",
    "Write a product description based on the information \n",
    "provided in the technical specifications delimited by \n",
    "triple backticks.\n",
    "\n",
    "Use at most 100 words.\n",
    "\n",
    "Technical specifications: ```{fact_sheet_chair}```\n",
    "\"\"\"\n",
    "\n",
    "print(prompt)"
   ]
  },
  {
   "cell_type": "code",
   "execution_count": 15,
   "id": "e08f4320",
   "metadata": {},
   "outputs": [
    {
     "name": "stdout",
     "output_type": "stream",
     "text": [
      "Introducing our mid-century inspired office chair, perfect for both home and business settings. With a range of shell colors and base finishes to choose from, you can customize your chair to fit your style. Available with plastic or full upholstery in a variety of fabric and leather options. The chair features a 5-wheel plastic coated aluminum base and pneumatic chair adjust for easy raise/lower action. Choose between soft or hard-floor casters and two seat foam densities. Made in Italy and qualified for contract use, this chair is both stylish and functional.\n"
     ]
    }
   ],
   "source": [
    "response = get_completion(prompt)\n",
    "print(response)"
   ]
  },
  {
   "cell_type": "code",
   "execution_count": 16,
   "id": "17f658d0",
   "metadata": {
    "tags": []
   },
   "outputs": [
    {
     "data": {
      "text/plain": [
       "91"
      ]
     },
     "execution_count": 16,
     "metadata": {},
     "output_type": "execute_result"
    }
   ],
   "source": [
    "len(response.split())"
   ]
  },
  {
   "cell_type": "markdown",
   "id": "a6de9c92-857c-4d1c-8fd1-192cf47c4763",
   "metadata": {},
   "source": [
    "## Issue 2. Text focuses on the wrong details\n",
    "- Ask it to focus on the aspects that are relevant to the intended audience."
   ]
  },
  {
   "cell_type": "code",
   "execution_count": 17,
   "id": "954a8a06",
   "metadata": {
    "tags": []
   },
   "outputs": [
    {
     "name": "stdout",
     "output_type": "stream",
     "text": [
      "\n",
      "Your task is to help a marketing team create a \n",
      "description for a retail website of a product based \n",
      "on a technical fact sheet.\n",
      "\n",
      "Write a product description based on the information \n",
      "provided in the technical specifications delimited by \n",
      "triple backticks.\n",
      "\n",
      "The description is intended for furniture retailers, \n",
      "so should be technical in nature and focus on the \n",
      "materials the product is constructed from.\n",
      "\n",
      "Use at most 100 words.\n",
      "\n",
      "Technical specifications: ```\n",
      "OVERVIEW\n",
      "- Part of a beautiful family of mid-century inspired office furniture, \n",
      "including filing cabinets, desks, bookcases, meeting tables, and more.\n",
      "- Several options of shell color and base finishes.\n",
      "- Available with plastic back and front upholstery (SWC-100) \n",
      "or full upholstery (SWC-110) in 10 fabric and 6 leather options.\n",
      "- Base finish options are: stainless steel, matte black, \n",
      "gloss white, or chrome.\n",
      "- Chair is available with or without armrests.\n",
      "- Suitable for home or business settings.\n",
      "- Qualified for contract use.\n",
      "\n",
      "CONSTRUCTION\n",
      "- 5-wheel plastic coated aluminum base.\n",
      "- Pneumatic chair adjust for easy raise/lower action.\n",
      "\n",
      "DIMENSIONS\n",
      "- WIDTH 53 CM | 20.87”\n",
      "- DEPTH 51 CM | 20.08”\n",
      "- HEIGHT 80 CM | 31.50”\n",
      "- SEAT HEIGHT 44 CM | 17.32”\n",
      "- SEAT DEPTH 41 CM | 16.14”\n",
      "\n",
      "OPTIONS\n",
      "- Soft or hard-floor caster options.\n",
      "- Two choices of seat foam densities: \n",
      " medium (1.8 lb/ft3) or high (2.8 lb/ft3)\n",
      "- Armless or 8 position PU armrests \n",
      "\n",
      "MATERIALS\n",
      "SHELL BASE GLIDER\n",
      "- Cast Aluminum with modified nylon PA6/PA66 coating.\n",
      "- Shell thickness: 10 mm.\n",
      "SEAT\n",
      "- HD36 foam\n",
      "\n",
      "COUNTRY OF ORIGIN\n",
      "- Italy\n",
      "```\n",
      "\n"
     ]
    }
   ],
   "source": [
    "prompt = f\"\"\"\n",
    "Your task is to help a marketing team create a \n",
    "description for a retail website of a product based \n",
    "on a technical fact sheet.\n",
    "\n",
    "Write a product description based on the information \n",
    "provided in the technical specifications delimited by \n",
    "triple backticks.\n",
    "\n",
    "The description is intended for furniture retailers, \n",
    "so should be technical in nature and focus on the \n",
    "materials the product is constructed from.\n",
    "\n",
    "Use at most 100 words.\n",
    "\n",
    "Technical specifications: ```{fact_sheet_chair}```\n",
    "\"\"\"\n",
    "\n",
    "print(prompt)"
   ]
  },
  {
   "cell_type": "code",
   "execution_count": 18,
   "id": "0e378a7c",
   "metadata": {},
   "outputs": [
    {
     "name": "stdout",
     "output_type": "stream",
     "text": [
      "Introducing our mid-century inspired office chair, perfect for both home and business settings. With a range of shell colors and base finishes to choose from, this chair is customizable to fit any decor. Choose between plastic or full upholstery in a variety of fabric and leather options. The chair is constructed with a 5-wheel plastic coated aluminum base and features a pneumatic chair adjust for easy raise/lower action. Available with or without armrests and qualified for contract use, this chair is both stylish and functional. Made in Italy with high-quality materials, including cast aluminum and HD36 foam.\n"
     ]
    }
   ],
   "source": [
    "\n",
    "response = get_completion(prompt)\n",
    "print(response)"
   ]
  },
  {
   "cell_type": "code",
   "execution_count": 19,
   "id": "e9455d58",
   "metadata": {
    "tags": []
   },
   "outputs": [
    {
     "name": "stdout",
     "output_type": "stream",
     "text": [
      "\n",
      "Your task is to help a marketing team create a \n",
      "description for a retail website of a product based \n",
      "on a technical fact sheet.\n",
      "\n",
      "Write a product description based on the information \n",
      "provided in the technical specifications delimited by \n",
      "triple backticks.\n",
      "\n",
      "The description is intended for furniture retailers, \n",
      "so should be technical in nature and focus on the \n",
      "materials the product is constructed from.\n",
      "\n",
      "At the end of the description, include every 7-character \n",
      "Product ID in the technical specification.\n",
      "\n",
      "Use at most 100 words.\n",
      "\n",
      "Technical specifications: ```\n",
      "OVERVIEW\n",
      "- Part of a beautiful family of mid-century inspired office furniture, \n",
      "including filing cabinets, desks, bookcases, meeting tables, and more.\n",
      "- Several options of shell color and base finishes.\n",
      "- Available with plastic back and front upholstery (SWC-100) \n",
      "or full upholstery (SWC-110) in 10 fabric and 6 leather options.\n",
      "- Base finish options are: stainless steel, matte black, \n",
      "gloss white, or chrome.\n",
      "- Chair is available with or without armrests.\n",
      "- Suitable for home or business settings.\n",
      "- Qualified for contract use.\n",
      "\n",
      "CONSTRUCTION\n",
      "- 5-wheel plastic coated aluminum base.\n",
      "- Pneumatic chair adjust for easy raise/lower action.\n",
      "\n",
      "DIMENSIONS\n",
      "- WIDTH 53 CM | 20.87”\n",
      "- DEPTH 51 CM | 20.08”\n",
      "- HEIGHT 80 CM | 31.50”\n",
      "- SEAT HEIGHT 44 CM | 17.32”\n",
      "- SEAT DEPTH 41 CM | 16.14”\n",
      "\n",
      "OPTIONS\n",
      "- Soft or hard-floor caster options.\n",
      "- Two choices of seat foam densities: \n",
      " medium (1.8 lb/ft3) or high (2.8 lb/ft3)\n",
      "- Armless or 8 position PU armrests \n",
      "\n",
      "MATERIALS\n",
      "SHELL BASE GLIDER\n",
      "- Cast Aluminum with modified nylon PA6/PA66 coating.\n",
      "- Shell thickness: 10 mm.\n",
      "SEAT\n",
      "- HD36 foam\n",
      "\n",
      "COUNTRY OF ORIGIN\n",
      "- Italy\n",
      "```\n",
      "\n"
     ]
    }
   ],
   "source": [
    "prompt = f\"\"\"\n",
    "Your task is to help a marketing team create a \n",
    "description for a retail website of a product based \n",
    "on a technical fact sheet.\n",
    "\n",
    "Write a product description based on the information \n",
    "provided in the technical specifications delimited by \n",
    "triple backticks.\n",
    "\n",
    "The description is intended for furniture retailers, \n",
    "so should be technical in nature and focus on the \n",
    "materials the product is constructed from.\n",
    "\n",
    "At the end of the description, include every 7-character \n",
    "Product ID in the technical specification.\n",
    "\n",
    "Use at most 100 words.\n",
    "\n",
    "Technical specifications: ```{fact_sheet_chair}```\n",
    "\"\"\"\n",
    "print(prompt)"
   ]
  },
  {
   "cell_type": "code",
   "execution_count": 20,
   "id": "c5f2909e",
   "metadata": {},
   "outputs": [
    {
     "name": "stdout",
     "output_type": "stream",
     "text": [
      "Introducing our mid-century inspired office chair, perfect for both home and business settings. With a range of shell colors and base finishes, including stainless steel and matte black, you can customize to your liking. Choose between plastic or full upholstery in a variety of fabrics and leathers. The chair features a 5-wheel plastic coated aluminum base and pneumatic chair adjust for easy raise/lower action. Available with or without armrests and suitable for contract use. Made with high-quality materials, including a cast aluminum shell and HD36 foam seat. Product ID: SWC-100, SWC-110.\n"
     ]
    }
   ],
   "source": [
    "response = get_completion(prompt)\n",
    "print(response)"
   ]
  },
  {
   "cell_type": "markdown",
   "id": "5be496d5-54c9-443b-8116-0b3d3d9dc560",
   "metadata": {},
   "source": [
    "## Issue 3. Description needs a table of dimensions\n",
    "- Ask it to extract information and organize it in a table."
   ]
  },
  {
   "cell_type": "code",
   "execution_count": 21,
   "id": "0384f1e4",
   "metadata": {
    "tags": []
   },
   "outputs": [
    {
     "name": "stdout",
     "output_type": "stream",
     "text": [
      "\n",
      "Your task is to help a marketing team create a \n",
      "description for a retail website of a product based \n",
      "on a technical fact sheet.\n",
      "\n",
      "Write a product description based on the information \n",
      "provided in the technical specifications delimited by \n",
      "triple backticks.\n",
      "\n",
      "The description is intended for furniture retailers, \n",
      "so should be technical in nature and focus on the \n",
      "materials the product is constructed from.\n",
      "\n",
      "At the end of the description, include every 7-character \n",
      "Product ID in the technical specification.\n",
      "\n",
      "After the description, include a table that gives the \n",
      "product's dimensions. The table should have two columns.\n",
      "In the first column include the name of the dimension. \n",
      "In the second column include the measurements in inches only.\n",
      "\n",
      "Give the table the title 'Product Dimensions'.\n",
      "\n",
      "Format everything as HTML that can be used in a website. \n",
      "Place the description in a <div> element.\n",
      "\n",
      "Technical specifications: ```\n",
      "OVERVIEW\n",
      "- Part of a beautiful family of mid-century inspired office furniture, \n",
      "including filing cabinets, desks, bookcases, meeting tables, and more.\n",
      "- Several options of shell color and base finishes.\n",
      "- Available with plastic back and front upholstery (SWC-100) \n",
      "or full upholstery (SWC-110) in 10 fabric and 6 leather options.\n",
      "- Base finish options are: stainless steel, matte black, \n",
      "gloss white, or chrome.\n",
      "- Chair is available with or without armrests.\n",
      "- Suitable for home or business settings.\n",
      "- Qualified for contract use.\n",
      "\n",
      "CONSTRUCTION\n",
      "- 5-wheel plastic coated aluminum base.\n",
      "- Pneumatic chair adjust for easy raise/lower action.\n",
      "\n",
      "DIMENSIONS\n",
      "- WIDTH 53 CM | 20.87”\n",
      "- DEPTH 51 CM | 20.08”\n",
      "- HEIGHT 80 CM | 31.50”\n",
      "- SEAT HEIGHT 44 CM | 17.32”\n",
      "- SEAT DEPTH 41 CM | 16.14”\n",
      "\n",
      "OPTIONS\n",
      "- Soft or hard-floor caster options.\n",
      "- Two choices of seat foam densities: \n",
      " medium (1.8 lb/ft3) or high (2.8 lb/ft3)\n",
      "- Armless or 8 position PU armrests \n",
      "\n",
      "MATERIALS\n",
      "SHELL BASE GLIDER\n",
      "- Cast Aluminum with modified nylon PA6/PA66 coating.\n",
      "- Shell thickness: 10 mm.\n",
      "SEAT\n",
      "- HD36 foam\n",
      "\n",
      "COUNTRY OF ORIGIN\n",
      "- Italy\n",
      "```\n",
      "\n"
     ]
    }
   ],
   "source": [
    "prompt = f\"\"\"\n",
    "Your task is to help a marketing team create a \n",
    "description for a retail website of a product based \n",
    "on a technical fact sheet.\n",
    "\n",
    "Write a product description based on the information \n",
    "provided in the technical specifications delimited by \n",
    "triple backticks.\n",
    "\n",
    "The description is intended for furniture retailers, \n",
    "so should be technical in nature and focus on the \n",
    "materials the product is constructed from.\n",
    "\n",
    "At the end of the description, include every 7-character \n",
    "Product ID in the technical specification.\n",
    "\n",
    "After the description, include a table that gives the \n",
    "product's dimensions. The table should have two columns.\n",
    "In the first column include the name of the dimension. \n",
    "In the second column include the measurements in inches only.\n",
    "\n",
    "Give the table the title 'Product Dimensions'.\n",
    "\n",
    "Format everything as HTML that can be used in a website. \n",
    "Place the description in a <div> element.\n",
    "\n",
    "Technical specifications: ```{fact_sheet_chair}```\n",
    "\"\"\"\n",
    "\n",
    "print(prompt)"
   ]
  },
  {
   "cell_type": "code",
   "execution_count": 22,
   "id": "7a7d0caa",
   "metadata": {},
   "outputs": [
    {
     "name": "stdout",
     "output_type": "stream",
     "text": [
      "<div>\n",
      "<h2>Mid-Century Inspired Office Chair</h2>\n",
      "<p>Introducing our mid-century inspired office chair, part of a beautiful family of office furniture that includes filing cabinets, desks, bookcases, meeting tables, and more. This chair is available in several options of shell color and base finishes, allowing you to customize it to your liking. You can choose between plastic back and front upholstery or full upholstery in 10 fabric and 6 leather options. The base finish options are stainless steel, matte black, gloss white, or chrome. You can also choose to have armrests or not. This chair is suitable for both home and business settings and is qualified for contract use.</p>\n",
      "<p>The chair is constructed with a 5-wheel plastic coated aluminum base and features a pneumatic chair adjust for easy raise/lower action. You can choose between soft or hard-floor caster options and two choices of seat foam densities: medium (1.8 lb/ft3) or high (2.8 lb/ft3). The chair is also available with armless or 8 position PU armrests.</p>\n",
      "<p>The shell base glider is made of cast aluminum with modified nylon PA6/PA66 coating and has a shell thickness of 10 mm. The seat is made of HD36 foam, ensuring comfort and durability. This chair is made in Italy.</p>\n",
      "<h3>Product ID:</h3>\n",
      "<ul>\n",
      "<li>SWC-100</li>\n",
      "<li>SWC-110</li>\n",
      "</ul>\n",
      "</div>\n",
      "\n",
      "<table>\n",
      "  <caption>Product Dimensions</caption>\n",
      "  <tr>\n",
      "    <th>Dimension</th>\n",
      "    <th>Measurement (inches)</th>\n",
      "  </tr>\n",
      "  <tr>\n",
      "    <td>Width</td>\n",
      "    <td>20.87\"</td>\n",
      "  </tr>\n",
      "  <tr>\n",
      "    <td>Depth</td>\n",
      "    <td>20.08\"</td>\n",
      "  </tr>\n",
      "  <tr>\n",
      "    <td>Height</td>\n",
      "    <td>31.50\"</td>\n",
      "  </tr>\n",
      "  <tr>\n",
      "    <td>Seat Height</td>\n",
      "    <td>17.32\"</td>\n",
      "  </tr>\n",
      "  <tr>\n",
      "    <td>Seat Depth</td>\n",
      "    <td>16.14\"</td>\n",
      "  </tr>\n",
      "</table>\n"
     ]
    }
   ],
   "source": [
    "response = get_completion(prompt)\n",
    "print(response)"
   ]
  },
  {
   "cell_type": "markdown",
   "id": "d681db67-6d59-40c1-a36b-4d76729a690d",
   "metadata": {},
   "source": [
    "## Load Python libraries to view HTML"
   ]
  },
  {
   "cell_type": "code",
   "execution_count": 23,
   "id": "73ff0052",
   "metadata": {
    "tags": []
   },
   "outputs": [],
   "source": [
    "from IPython.display import display,HTML"
   ]
  },
  {
   "cell_type": "code",
   "execution_count": 24,
   "id": "3465ffce",
   "metadata": {
    "tags": []
   },
   "outputs": [
    {
     "data": {
      "text/html": [
       "<div>\n",
       "<h2>Mid-Century Inspired Office Chair</h2>\n",
       "<p>Introducing our mid-century inspired office chair, part of a beautiful family of office furniture that includes filing cabinets, desks, bookcases, meeting tables, and more. This chair is available in several options of shell color and base finishes, allowing you to customize it to your liking. You can choose between plastic back and front upholstery or full upholstery in 10 fabric and 6 leather options. The base finish options are stainless steel, matte black, gloss white, or chrome. You can also choose to have armrests or not. This chair is suitable for both home and business settings and is qualified for contract use.</p>\n",
       "<p>The chair is constructed with a 5-wheel plastic coated aluminum base and features a pneumatic chair adjust for easy raise/lower action. You can choose between soft or hard-floor caster options and two choices of seat foam densities: medium (1.8 lb/ft3) or high (2.8 lb/ft3). The chair is also available with armless or 8 position PU armrests.</p>\n",
       "<p>The shell base glider is made of cast aluminum with modified nylon PA6/PA66 coating and has a shell thickness of 10 mm. The seat is made of HD36 foam, ensuring comfort and durability. This chair is made in Italy.</p>\n",
       "<h3>Product ID:</h3>\n",
       "<ul>\n",
       "<li>SWC-100</li>\n",
       "<li>SWC-110</li>\n",
       "</ul>\n",
       "</div>\n",
       "\n",
       "<table>\n",
       "  <caption>Product Dimensions</caption>\n",
       "  <tr>\n",
       "    <th>Dimension</th>\n",
       "    <th>Measurement (inches)</th>\n",
       "  </tr>\n",
       "  <tr>\n",
       "    <td>Width</td>\n",
       "    <td>20.87\"</td>\n",
       "  </tr>\n",
       "  <tr>\n",
       "    <td>Depth</td>\n",
       "    <td>20.08\"</td>\n",
       "  </tr>\n",
       "  <tr>\n",
       "    <td>Height</td>\n",
       "    <td>31.50\"</td>\n",
       "  </tr>\n",
       "  <tr>\n",
       "    <td>Seat Height</td>\n",
       "    <td>17.32\"</td>\n",
       "  </tr>\n",
       "  <tr>\n",
       "    <td>Seat Depth</td>\n",
       "    <td>16.14\"</td>\n",
       "  </tr>\n",
       "</table>"
      ],
      "text/plain": [
       "<IPython.core.display.HTML object>"
      ]
     },
     "metadata": {},
     "output_type": "display_data"
    }
   ],
   "source": [
    "display(HTML(response))"
   ]
  },
  {
   "cell_type": "markdown",
   "id": "8ed02a02-9e12-4f63-97bd-f52064b18666",
   "metadata": {},
   "source": [
    "## Try experimenting on your own!"
   ]
  }
 ],
 "metadata": {
  "kernelspec": {
   "display_name": "Python 3 (ipykernel)",
   "language": "python",
   "name": "python3"
  },
  "language_info": {
   "codemirror_mode": {
    "name": "ipython",
    "version": 3
   },
   "file_extension": ".py",
   "mimetype": "text/x-python",
   "name": "python",
   "nbconvert_exporter": "python",
   "pygments_lexer": "ipython3",
   "version": "3.9.6"
  }
 },
 "nbformat": 4,
 "nbformat_minor": 5
}
